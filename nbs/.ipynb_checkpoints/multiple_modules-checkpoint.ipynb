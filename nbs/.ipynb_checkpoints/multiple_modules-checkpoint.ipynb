{
 "cells": [
  {
   "cell_type": "markdown",
   "metadata": {},
   "source": [
    "# Importing Multiple Modules\n",
    "## First we create and train one of the models"
   ]
  },
  {
   "cell_type": "code",
   "execution_count": 18,
   "metadata": {
    "collapsed": true
   },
   "outputs": [],
   "source": [
    "import tensorflow as tf\n",
    "import random\n",
    "import matplotlib.pylab as plt"
   ]
  },
  {
   "cell_type": "markdown",
   "metadata": {},
   "source": [
    "### Generate random data for training"
   ]
  },
  {
   "cell_type": "code",
   "execution_count": 19,
   "metadata": {},
   "outputs": [
    {
     "data": {
      "image/png": "[encoded data removed]",
      "text/plain": [
       "<matplotlib.figure.Figure at 0x10e14d748>"
      ]
     },
     "metadata": {},
     "output_type": "display_data"
    }
   ],
   "source": [
    "data = [0]\n",
    "expected = [0]\n",
    "for i in range(100):\n",
    "    expected.append(expected[-1] + random.randint(-10, 10))\n",
    "    data.append(i)\n",
    "    \n",
    "plt.plot(data, expected)\n",
    "plt.show()"
   ]
  },
  {
   "cell_type": "markdown",
   "metadata": {},
   "source": [
    "### Create + Train + Save"
   ]
  },
  {
   "cell_type": "code",
   "execution_count": 31,
   "metadata": {},
   "outputs": [
    {
     "data": {
      "image/png": "[encoded data removed]",
      "text/plain": [
       "<matplotlib.figure.Figure at 0x10e0e7dd8>"
      ]
     },
     "metadata": {},
     "output_type": "display_data"
    }
   ],
   "source": [
    "#def create_train_save(model_name):\n",
    "model_name = \"models/model_2\"\n",
    "### Linear Regression ###\n",
    "# Input placeholders\n",
    "x = tf.placeholder(tf.float32, name='x')\n",
    "y = tf.placeholder(tf.float32, name='y')\n",
    "# Model parameters\n",
    "W1 = tf.Variable([0.1], tf.float32)\n",
    "W2 = tf.Variable([0.1], tf.float32)\n",
    "W3 = tf.Variable([0.1], tf.float32)\n",
    "b = tf.Variable([0.1], tf.float32)\n",
    "\n",
    "# Output : identity returns the same shape and contents as input\n",
    "linear_model = tf.identity(W1 * x + W2 * x**2 + W3 * x**3 + b,\n",
    "                           name='activation_opt')\n",
    "\n",
    "# Loss : Computes the sum of elements across dimensions of a tensor\n",
    "loss = tf.reduce_sum(tf.square(linear_model - y), name='loss')\n",
    "\n",
    "# Optimizer and training step\n",
    "optimizer = tf.train.AdamOptimizer(0.001)\n",
    "train = optimizer.minimize(loss, name='train_step')\n",
    "\n",
    "# Remember output operation for later aplication\n",
    "# Adding it to a collections for easy acces\n",
    "# This is not required if you NAME your output operation\n",
    "tf.add_to_collection(\"activation\", linear_model)\n",
    "# Start the session\n",
    "init = tf.global_variables_initializer()\n",
    "sess = tf.Session()\n",
    "sess.run(init)\n",
    "#  Create saver\n",
    "saver = tf.train.Saver()\n",
    "\n",
    "# Training loop\n",
    "for i in range(10000):\n",
    "    sess.run(train, {x: data, y: expected})\n",
    "    if i % 1000 == 0:\n",
    "        # You can also save checkpoints using global_step variable\n",
    "        saver.save(sess, model_name, global_step=i)\n",
    "\n",
    "# Save TensorFlow graph into path models/model_name\n",
    "saver.save(sess, model_name)\n",
    "\n",
    "\n",
    "predicted = sess.run(linear_model, {x: [i for i in range(100)]})\n",
    "\n",
    "plt.plot(data, expected, 'o', markersize=2)\n",
    "plt.plot(predicted, 'r')\n",
    "plt.show()\n",
    "# Close previous session and reset graph\n",
    "tf.reset_default_graph() \n",
    "sess.close()"
   ]
  },
  {
   "cell_type": "code",
   "execution_count": 29,
   "metadata": {},
   "outputs": [],
   "source": [
    "#create_train_save(\"models/model_1\")\n",
    "#create_train_save(\"models/model_2\")"
   ]
  },
  {
   "cell_type": "markdown",
   "metadata": {},
   "source": [
    "## Importing (in different file)"
   ]
  },
  {
   "cell_type": "code",
   "execution_count": 32,
   "metadata": {
    "collapsed": true
   },
   "outputs": [],
   "source": [
    "class ImportGraph():\n",
    "    \"\"\"  Importing and running isolated TF graph \"\"\"\n",
    "    def __init__(self, loc):\n",
    "        # Create local graph and use it in the session\n",
    "        self.graph = tf.Graph()\n",
    "        self.sess = tf.Session(graph=self.graph)\n",
    "        with self.graph.as_default():\n",
    "            # Import saved model from location 'loc' into local graph\n",
    "            saver = tf.train.import_meta_graph(loc + '.meta',\n",
    "                                               clear_devices=True)\n",
    "            saver.restore(self.sess, loc)\n",
    "            # There are TWO options how to get activation operation:\n",
    "              # FROM SAVED COLLECTION:            \n",
    "            self.activation = tf.get_collection('activation')[0]\n",
    "              # BY NAME:\n",
    "            self.activation = self.graph.get_operation_by_name('activation_opt').outputs[0]\n",
    "\n",
    "    def run(self, data):\n",
    "        \"\"\" Running the activation operation previously imported \"\"\"\n",
    "        return self.sess.run(self.activation, feed_dict={\"x:0\": data})"
   ]
  },
  {
   "cell_type": "code",
   "execution_count": 33,
   "metadata": {},
   "outputs": [
    {
     "name": "stdout",
     "output_type": "stream",
     "text": [
      "INFO:tensorflow:Restoring parameters from models/model_1\n",
      "INFO:tensorflow:Restoring parameters from models/model_2\n"
     ]
    },
    {
     "data": {
      "image/png": "[encoded data removed]",
      "text/plain": [
       "<matplotlib.figure.Figure at 0x116a7e358>"
      ]
     },
     "metadata": {},
     "output_type": "display_data"
    }
   ],
   "source": [
    "model_1 = ImportGraph('models/model_1')\n",
    "model_2 = ImportGraph('models/model_2')\n",
    "\n",
    "# Application of two different models, ploting results\n",
    "data = range(101)\n",
    "plt.plot(model_1.run(data), 'r')\n",
    "#plt.plot(model_2.run(data), 'g')\n",
    "plt.plot(data, expected, 'o', markersize=2)\n",
    "plt.show()"
   ]
  },
  {
   "cell_type": "code",
   "execution_count": null,
   "metadata": {},
   "outputs": [],
   "source": [
    "import matplotlib.pylab as plt\n",
    "import numpy as np\n",
    "npa = np.asarray([-1.8334445 , -1.3035787 , -1.9381986 , -0.49172443, -1.7395833 ,\n",
    "       -1.7785631 , -1.2872014 , -0.35538638, -0.6023577 , -0.01687162,\n",
    "       -0.5650643 ,  0.63271207,  0.7018853 ,  0.85070187, -0.58213115,\n",
    "        0.921902  ,  1.2636886 ,  1.0715448 ,  0.58031094,  0.20228225,\n",
    "        1.1556989 , -0.5353254 ,  0.09103858, -0.2949459 ,  1.2460283 ,\n",
    "        0.02324888,  1.4775976 ,  0.63607067,  0.6795594 ,  1.832644  ,\n",
    "        1.5390474 ,  1.1455375 ,  1.1450435 ,  0.27951849,  0.22413394,\n",
    "        4.106924  ,  3.7188945 ,  4.1025233 ,  4.043865  ,  2.9158432 ,\n",
    "        3.9284718 ,  2.636105  ,  2.4037163 ,  3.2851577 ,  2.824966  ,\n",
    "        2.5469713 ,  2.958625  , -0.7279201 , -2.1715982 , -2.6731768 ,\n",
    "       -2.2617903 , -1.9242064 , -1.6716248 , -2.2645462 , -1.6605184 ,\n",
    "       -1.7007023 , -2.0617077 , -2.007212  , -1.851035  , -0.76236665,\n",
    "        0.9329535 , -0.13313816,  0.15302676,  0.16428407,  0.83773184,\n",
    "       -0.1225479 , -0.10700035,  0.07451237, -0.43686157, -0.9996294 ,\n",
    "       -0.9826768 , -0.16099416, -0.22033358, -0.55536634,  0.2631192 ,\n",
    "       -0.8566441 , -0.5488023 , -1.4828253 , -2.66428   , -0.4865209 ,\n",
    "       -0.6839407 , -0.48554203, -0.92792   , -1.3706942 , -1.3536773 ,\n",
    "       -0.79918706, -0.5260417 , -2.5493133 , -0.561859  , -1.7616911 ,\n",
    "       -1.5380243 , -0.96706736, -1.399875  , -0.4074167 , -1.7069006 ,\n",
    "       -0.9146608 , -1.873963  , -0.8176554 , -1.1315113 , -0.21366288,\n",
    "        0.03204313])"
   ]
  }
 ],
 "metadata": {
  "kernelspec": {
   "display_name": "Python 3",
   "language": "python",
   "name": "python3"
  },
  "language_info": {
   "codemirror_mode": {
    "name": "ipython",
    "version": 3
   },
   "file_extension": ".py",
   "mimetype": "text/x-python",
   "name": "python",
   "nbconvert_exporter": "python",
   "pygments_lexer": "ipython3",
   "version": "3.6.2"
  }
 },
 "nbformat": 4,
 "nbformat_minor": 2
}
